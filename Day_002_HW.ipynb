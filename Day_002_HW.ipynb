{
 "cells": [
  {
   "cell_type": "markdown",
   "metadata": {},
   "source": [
    "## [作業目標]\n",
    "了解機器學習適合應用的領域與範疇。"
   ]
  },
  {
   "cell_type": "markdown",
   "metadata": {},
   "source": [
    "## [作業重點]\n",
    "透過瞭解機器學習的運作方式，找出非常適用機器學習應用的領域及其原因"
   ]
  },
  {
   "cell_type": "markdown",
   "metadata": {},
   "source": [
    "## 作業\n",
    "請找出一個你認為機器學習可以發光發熱的領域並闡述原因? "
   ]
  },
  {
   "cell_type": "code",
   "execution_count": 1,
   "metadata": {},
   "outputs": [
    {
     "ename": "SyntaxError",
     "evalue": "invalid character in identifier (<ipython-input-1-96d19d7a9351>, line 1)",
     "output_type": "error",
     "traceback": [
      "\u001b[0;36m  File \u001b[0;32m\"<ipython-input-1-96d19d7a9351>\"\u001b[0;36m, line \u001b[0;32m1\u001b[0m\n\u001b[0;31m    機器學習將來會在農業上面發光發熱。機器學習(ML)通常可以這樣定義：「透過從過往的資料和經驗中學習並找到其運行規則，最後達到人工智慧的方法。」\u001b[0m\n\u001b[0m                        ^\u001b[0m\n\u001b[0;31mSyntaxError\u001b[0m\u001b[0;31m:\u001b[0m invalid character in identifier\n"
     ]
    }
   ],
   "source": [
    "    機器學習將來會在農業上面發光發熱。機器學習通常可以這樣定義：「透過從過往的資料和經驗中學習並找到其運行規則，最後達到人工智慧的方法。」\n",
    "    而目前所推動的智慧農業，將來會大量使用AI處理大量資料。\n",
    "    預測性推論的AI工具能綜合考量氮來源、土壤種類、時機、氣候、可能產量等資料以預測施肥時機，\n",
    "    農人可據以建立更正確而有效的作物栽種模式以支援當令作物的決策與提升獲利潛力，而不受資料複雜度或氣候模式造成的變異性所影響。\n",
    "    機器學習不單單只有作物的生長模式預測，更不侷限於自有農場範圍，\n",
    "    協助生產者進行更好的決策、提升農產品收穫的效益。\n",
    "    AI提供關於農地現場的深刻見解，可協助農人調整耕作實務，甚至更換作物；重新考量施肥計畫以達到提升耕地土壤肥沃度的目標；\n",
    "    隨時掌握天候的變化與預報，並據以審視種子的選擇；根據土壤樣本分析的水分與氮含量調整春耕的時程；建立新的商業模式。\n",
    "\n",
    "\n",
    "    \n",
    "    \n",
    "    \n",
    "    \n",
    "    \n",
    "    \n",
    "\n"
   ]
  },
  {
   "cell_type": "code",
   "execution_count": null,
   "metadata": {},
   "outputs": [],
   "source": []
  }
 ],
 "metadata": {
  "kernelspec": {
   "display_name": "Python 3",
   "language": "python",
   "name": "python3"
  },
  "language_info": {
   "codemirror_mode": {
    "name": "ipython",
    "version": 3
   },
   "file_extension": ".py",
   "mimetype": "text/x-python",
   "name": "python",
   "nbconvert_exporter": "python",
   "pygments_lexer": "ipython3",
   "version": "3.7.3"
  }
 },
 "nbformat": 4,
 "nbformat_minor": 2
}
